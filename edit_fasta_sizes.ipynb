{
 "cells": [
  {
   "cell_type": "code",
   "execution_count": 1,
   "metadata": {},
   "outputs": [],
   "source": [
    "my_file = open(\"consensus_combined.fasta\")"
   ]
  },
  {
   "cell_type": "code",
   "execution_count": 2,
   "metadata": {},
   "outputs": [
    {
     "name": "stdout",
     "output_type": "stream",
     "text": [
      "<_io.TextIOWrapper name='consensus_combined.fasta' mode='r' encoding='UTF-8'>\n"
     ]
    }
   ],
   "source": [
    "print(my_file)"
   ]
  },
  {
   "cell_type": "code",
   "execution_count": 1,
   "metadata": {},
   "outputs": [
    {
     "name": "stdout",
     "output_type": "stream",
     "text": [
      "44.TRBOMB.fasta_NEW\n",
      "86.UM142.fasta_BRAZIL\n",
      "61.CLFT001-10.fasta_BRAZIL\n",
      "143.Sample_57_0739.fasta_CH\n",
      "21.Cont2A.fasta_CH\n",
      "4.A_CONTROL.fasta_CH\n",
      "24.APEP.fasta_CH\n",
      "42.APEP76.fasta_CH\n",
      "48.ACON82.fasta_CH\n",
      "112.Sample_26_KRBOOR_331.fasta_ASIA\n",
      "113.Sample_27_KRBOOR_323.fasta_ASIA\n",
      "114.Sample_28_KRBOOR_317.fasta_ASIA\n",
      "148.Sample_62_KBO_317.fasta_ASIA\n",
      "149.Sample_63_KBO_319.fasta_ASIA\n",
      "150.Sample_64_KBO_327.fasta_ASIA\n",
      "36.TRBOOR.fasta_ASIA\n",
      "88.Sample_02_TRBOOR_11.fasta_ASIA\n",
      "14.TF5a1.fasta_CAPE\n",
      "15.Sa1d.fasta_CAPE\n",
      "18.MG1.fasta_CAPE\n",
      "22.SA4c.fasta_CAPE\n",
      "49.NTA6.fasta_CAPE\n",
      "56.CAE2.fasta_CAPE\n",
      "8.RC5.1.fasta_CAPE\n",
      "1.BLI1.fasta_GPL\n",
      "10.MG8.fasta_GPL\n",
      "100.Sample_14_IA_12No1.fasta_GPL\n",
      "101.Sample_15_IA_12No3.fasta_GPL\n",
      "102.Sample_16_IA_12No4.fasta_GPL\n",
      "103.Sample_17_IA_12No5.fasta_GPL\n",
      "104.Sample_18_IA_12No8.fasta_GPL\n",
      "105.Sample_19_IA_12No9.fasta_GPL\n",
      "106.Sample_20_IA_12No10.fasta_GPL\n",
      "107.Sample_21_IA_12No12.fasta_GPL\n",
      "108.Sample_22_IA042_.fasta_GPL\n",
      "11.MG4.fasta_GPL\n",
      "127.Sample_41_Lhurs_13No14.fasta_GPL\n",
      "115.Sample_29_BAV_OBER_1.fasta_GPL\n",
      "116.Sample_30_BAV_OBER_2.fasta_GPL\n",
      "117.Sample_31_BAV_OBER_3.fasta_GPL\n",
      "118.Sample_32_BAV_BRUCH_1.fasta_GPL\n",
      "119.Sample_33_JEL261.fasta_GPL\n",
      "12.MG3.fasta_GPL\n",
      "120.Sample_34_JEL274.fasta_GPL\n",
      "121.Sample_35_JEL270.fasta_GPL\n",
      "123.Sample_37_Lhurs_13No2.fasta_GPL\n",
      "124.Sample_38_Lhurs_13No4.fasta_GPL\n",
      "125.Sample_39_Lhurs_13No11.fasta_GPL\n",
      "126.Sample_40_Lhurs_13No13.fasta_GPL\n",
      "128.Sample_42_Arlet_13No1.fasta_GPL\n",
      "129.Sample_43_Arlet_13No2.fasta_GPL\n",
      "13.MODS28.fasta_GPL\n",
      "130.Sample_44_Arlet_13No8.fasta_GPL\n",
      "131.Sample_45_IA_13No1.fasta_GPL\n",
      "132.Sample_46_IA_13No6.fasta_GPL\n",
      "133.Sample_47_IA_13No8.fasta_GPL\n",
      "134.Sample_48_IA_13No13.fasta_GPL\n",
      "135.Sample_49_IA_13No17.fasta_GPL\n",
      "136.Sample_50_ANS_13No1.fasta_GPL\n",
      "137.Sample_51_ANS_13No4.fasta_GPL\n",
      "138.Sample_52_ANS_13No12.fasta_GPL\n",
      "139.Sample_53_Arlet_13No4.fasta_GPL\n",
      "140.Sample_54_Arlet_13No6.fasta_GPL\n",
      "141.Sample_55_ANS_13No7.fasta_GPL\n",
      "142.Sample_56_ANS_13No10.fasta_GPL\n",
      "144.Sample_58_IA043_cryo.fasta_GPL\n",
      "145.Sample_59_IA_13No12.fasta_GPL\n",
      "146.Sample_60_IA_13No13.fasta_GPL\n",
      "147.Sample_61_IA042.fasta_GPL\n",
      "16.ETH2.fasta_GPL\n",
      "17.AUL.fasta_GPL\n",
      "19.BEW2.fasta_GPL\n",
      "2.JEL423.fasta_GPL\n",
      "20.AP15.fasta_GPL\n",
      "23.SFBC_014.fasta_GPL\n",
      "25.MAL_05.fasta_GPL\n",
      "26.TORO_1.fasta_GPL\n",
      "27.CH4.fasta_GPL\n",
      "28.STR3.fasta_GPL\n",
      "29.HER3.fasta_GPL\n",
      "3.ETH4.fasta_GPL\n",
      "30.CHAL3.fasta_GPL\n",
      "31.RAS3.fasta_GPL\n",
      "32.SCH.fasta_GPL\n",
      "33.VOR3.fasta_GPL\n",
      "34.BR1.fasta_GPL\n",
      "35.LHURS_8.fasta_GPL\n",
      "37.UKMAB.fasta_GPL\n",
      "38.IA12.fasta_GPL\n",
      "39.CORN1B.fasta_GPL\n",
      "40.TRNR1.fasta_GPL\n",
      "41.UKBER.fasta_GPL\n",
      "43.TRAX.fasta_GPL\n",
      "45.UKBEL.fasta_GPL\n",
      "46.REPSOL.fasta_GPL\n",
      "47.UKSHB.fasta_GPL\n",
      "5.VC1.fasta_GPL\n",
      "50.ADMALA.fasta_GPL\n",
      "51.RAB1.fasta_GPL\n",
      "52.C2A.fasta_GPL\n",
      "53.picosAo1.fasta_GPL\n",
      "54.UG3.fasta_GPL\n",
      "55.PENNEWT.fasta_GPL\n",
      "57.CORN1.fasta_GPL\n",
      "58.CJB4.fasta_GPL\n",
      "59.CJB5-2.fasta_GPL\n",
      "6.MODS27.3.fasta_GPL\n",
      "60.CJB7.fasta_GPL\n",
      "62.CLFT021.fasta_GPL\n",
      "63.CLFT023.fasta_GPL\n",
      "64.CLFT024.fasta_GPL\n",
      "65.CLFT024-second-isolation.fasta_GPL\n",
      "66.CLFT026.fasta_GPL\n",
      "68.JEL238.fasta_GPL\n",
      "69.JEL267.fasta_GPL\n",
      "7.SP10.fasta_GPL\n",
      "70.JEL271.fasta_GPL\n",
      "71.JEL275.fasta_GPL\n",
      "72.JEL289.fasta_GPL\n",
      "73.JEL310.fasta_GPL\n",
      "74.JEL359.fasta_GPL\n",
      "75.JEL408.fasta_GPL\n",
      "76.JEL427.fasta_GPL\n",
      "77.JEL429.fasta_GPL\n",
      "79.JEL627.fasta_GPL\n",
      "80.LBAbercrom.fasta_GPL\n",
      "81.MexMkt.fasta_GPL\n",
      "82.MLA1.fasta_GPL\n",
      "83.NBRC106979.fasta_GPL\n",
      "84.SRS812.fasta_GPL\n",
      "85.TST75.fasta_GPL\n",
      "87.Sample_01_JEL423.fasta_GPL\n",
      "89.Sample_03_PUITS_11.fasta_GPL\n",
      "9.MAD.fasta_GPL\n",
      "90.Sample_04_PUITS_12No3.fasta_GPL\n",
      "91.Sample_05_PUITS_12No4.fasta_GPL\n",
      "92.Sample_06_PUITS_12No5.fasta_GPL\n",
      "93.Sample_07_PUITS_12No7.fasta_GPL\n",
      "94.Sample_08_PUITS_12No8.fasta_GPL\n",
      "95.Sample_09_LHURS_11No1.fasta_GPL\n",
      "96.Sample_10_LHURS_11No7.fasta_GPL\n",
      "97.Sample_11_LHURS_11No8.fasta_GPL\n",
      "98.Sample_12_LHURS_11No11.fasta_GPL\n",
      "99.Sample_13_IA_11.fasta_GPL\n",
      "122.Sample_36_Bsalamandrivorans.fasta_BS\n",
      "67.EV001.fasta\n",
      "78.JEL433.fasta\n",
      "109.Sample_23_PP_Portugal.fasta\n",
      "110.Sample_24_HP254.fasta\n",
      "111.Sample_25_HP287.fasta\n"
     ]
    }
   ],
   "source": [
    "from Bio import SeqIO\n",
    "for record in SeqIO.parse(\"consensus_combined.fasta\", \"fasta\"):\n",
    "    print(record.id)"
   ]
  },
  {
   "cell_type": "code",
   "execution_count": 54,
   "metadata": {},
   "outputs": [
    {
     "data": {
      "text/plain": [
       "MutableSeq('ACTCGTCGTCG', DNAAlphabet())"
      ]
     },
     "execution_count": 54,
     "metadata": {},
     "output_type": "execute_result"
    }
   ],
   "source": []
  },
  {
   "cell_type": "code",
   "execution_count": 72,
   "metadata": {},
   "outputs": [
    {
     "name": "stdout",
     "output_type": "stream",
     "text": [
      "150 reads\n"
     ]
    }
   ],
   "source": [
    "count = 0\n",
    "for rec in SeqIO.parse(\"consensus_combined.fasta\", \"fasta\"):\n",
    "    count += 1\n",
    "print(\"%i reads\" % count)"
   ]
  },
  {
   "cell_type": "code",
   "execution_count": 84,
   "metadata": {},
   "outputs": [
    {
     "name": "stdout",
     "output_type": "stream",
     "text": [
      "<generator object <genexpr> at 0x7ff1c9392750>\n",
      "Saved 150 sequences\n"
     ]
    }
   ],
   "source": [
    "trimmed_primer_reads = (\n",
    "    rec[104499:173150] # choose location\n",
    "    for rec in SeqIO.parse(\"consensus_combined.fasta\", \"fasta\") # enter fasta file locationa and file type\n",
    "    #if rec.seq.startswith(\"N\") # if statement allows more control but ignore in this instance\n",
    ")\n",
    "count = SeqIO.write(trimmed_primer_reads, \"consensus_combined_trimmed.fasta\", \"fasta\") # write file\n",
    "print(\"Saved %i sequences\" % count) # see how many sequences were edited/written (all in this case)"
   ]
  },
  {
   "cell_type": "code",
   "execution_count": 64,
   "metadata": {},
   "outputs": [
    {
     "data": {
      "text/plain": [
       "1"
      ]
     },
     "execution_count": 64,
     "metadata": {},
     "output_type": "execute_result"
    }
   ],
   "source": []
  },
  {
   "cell_type": "code",
   "execution_count": null,
   "metadata": {},
   "outputs": [],
   "source": []
  },
  {
   "cell_type": "code",
   "execution_count": null,
   "metadata": {},
   "outputs": [],
   "source": []
  }
 ],
 "metadata": {
  "kernelspec": {
   "display_name": "Python 3",
   "language": "python",
   "name": "python3"
  },
  "language_info": {
   "codemirror_mode": {
    "name": "ipython",
    "version": 3
   },
   "file_extension": ".py",
   "mimetype": "text/x-python",
   "name": "python",
   "nbconvert_exporter": "python",
   "pygments_lexer": "ipython3",
   "version": "3.7.3"
  }
 },
 "nbformat": 4,
 "nbformat_minor": 2
}
